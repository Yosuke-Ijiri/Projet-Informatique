{
 "cells": [
  {
   "cell_type": "markdown",
   "metadata": {},
   "source": [
    "<img src=\"./Data/logo-ensae.jpg\" width = 40%>"
   ]
  },
  {
   "cell_type": "markdown",
   "metadata": {},
   "source": [
    "<img src=\"./Data/logo-ipparis.jpg\" width = 30%>"
   ]
  },
  {
   "cell_type": "markdown",
   "metadata": {},
   "source": [
    "**\"Projet Informatique\", S2 2018-19** \n",
    "# *Wireless Data Traffic Change Points Detection*  \n",
    "\n",
    "**Yosuke IJIRI**, *Mastère Spécialisé Data Science, ENSAE ParisTech*  "
   ]
  },
  {
   "cell_type": "markdown",
   "metadata": {},
   "source": [
    "## Abstract\n",
    "Wireless data traffic is invisible, yet is one of the most common and indispensable things on which we rely in our daily life from emails and voice calls to watching videos. Amongst data traffic, bandwidth is a major KPI in terms of network quality and largely depends on the wireless signal strength which varies with distance to the access point. This project attempts to detect changes in the distance- or condition- based dynamics of traffic speed time series. We employ Changer Finder as a Change Point Detection algorithm in order to detect the timings when the distance or signal condition (e.g. interferance in the signal due to obstables such as walls and doors) between two communicating devices are changed."
   ]
  },
  {
   "cell_type": "code",
   "execution_count": 158,
   "metadata": {},
   "outputs": [
    {
     "data": {
      "text/html": [
       "<div id=\"my_id_menu_nb\">run previous cell, wait for 2 seconds</div>\n",
       "<script>\n",
       "function repeat_indent_string(n){\n",
       "    var a = \"\" ;\n",
       "    for ( ; n > 0 ; --n)\n",
       "        a += \"    \";\n",
       "    return a;\n",
       "}\n",
       "// look up into all sections and builds an automated menu //\n",
       "var update_menu_string = function(begin, lfirst, llast, sformat, send, keep_item, begin_format, end_format) {\n",
       "    var anchors = document.getElementsByClassName(\"section\");\n",
       "    if (anchors.length == 0) {\n",
       "        anchors = document.getElementsByClassName(\"text_cell_render rendered_html\");\n",
       "    }\n",
       "    var i,t;\n",
       "    var text_menu = begin;\n",
       "    var text_memo = \"<pre>\\nlength:\" + anchors.length + \"\\n\";\n",
       "    var ind = \"\";\n",
       "    var memo_level = 1;\n",
       "    var href;\n",
       "    var tags = [];\n",
       "    var main_item = 0;\n",
       "    var format_open = 0;\n",
       "    for (i = 0; i <= llast; i++)\n",
       "        tags.push(\"h\" + i);\n",
       "\n",
       "    for (i = 0; i < anchors.length; i++) {\n",
       "        text_memo += \"**\" + anchors[i].id + \"--\\n\";\n",
       "\n",
       "        var child = null;\n",
       "        for(t = 0; t < tags.length; t++) {\n",
       "            var r = anchors[i].getElementsByTagName(tags[t]);\n",
       "            if (r.length > 0) {\n",
       "child = r[0];\n",
       "break;\n",
       "            }\n",
       "        }\n",
       "        if (child == null) {\n",
       "            text_memo += \"null\\n\";\n",
       "            continue;\n",
       "        }\n",
       "        if (anchors[i].hasAttribute(\"id\")) {\n",
       "            // when converted in RST\n",
       "            href = anchors[i].id;\n",
       "            text_memo += \"#1-\" + href;\n",
       "            // passer à child suivant (le chercher)\n",
       "        }\n",
       "        else if (child.hasAttribute(\"id\")) {\n",
       "            // in a notebook\n",
       "            href = child.id;\n",
       "            text_memo += \"#2-\" + href;\n",
       "        }\n",
       "        else {\n",
       "            text_memo += \"#3-\" + \"*\" + \"\\n\";\n",
       "            continue;\n",
       "        }\n",
       "        var title = child.textContent;\n",
       "        var level = parseInt(child.tagName.substring(1,2));\n",
       "\n",
       "        text_memo += \"--\" + level + \"?\" + lfirst + \"--\" + title + \"\\n\";\n",
       "\n",
       "        if ((level < lfirst) || (level > llast)) {\n",
       "            continue ;\n",
       "        }\n",
       "        if (title.endsWith('¶')) {\n",
       "            title = title.substring(0,title.length-1).replace(\"<\", \"&lt;\")\n",
       "         .replace(\">\", \"&gt;\").replace(\"&\", \"&amp;\");\n",
       "        }\n",
       "        if (title.length == 0) {\n",
       "            continue;\n",
       "        }\n",
       "\n",
       "        while (level < memo_level) {\n",
       "            text_menu += end_format + \"</ul>\\n\";\n",
       "            format_open -= 1;\n",
       "            memo_level -= 1;\n",
       "        }\n",
       "        if (level == lfirst) {\n",
       "            main_item += 1;\n",
       "        }\n",
       "        if (keep_item != -1 && main_item != keep_item + 1) {\n",
       "            // alert(main_item + \" - \" + level + \" - \" + keep_item);\n",
       "            continue;\n",
       "        }\n",
       "        while (level > memo_level) {\n",
       "            text_menu += \"<ul>\\n\";\n",
       "            memo_level += 1;\n",
       "        }\n",
       "        text_menu += repeat_indent_string(level-2);\n",
       "        text_menu += begin_format + sformat.replace(\"__HREF__\", href).replace(\"__TITLE__\", title);\n",
       "        format_open += 1;\n",
       "    }\n",
       "    while (1 < memo_level) {\n",
       "        text_menu += end_format + \"</ul>\\n\";\n",
       "        memo_level -= 1;\n",
       "        format_open -= 1;\n",
       "    }\n",
       "    text_menu += send;\n",
       "    //text_menu += \"\\n\" + text_memo;\n",
       "\n",
       "    while (format_open > 0) {\n",
       "        text_menu += end_format;\n",
       "        format_open -= 1;\n",
       "    }\n",
       "    return text_menu;\n",
       "};\n",
       "var update_menu = function() {\n",
       "    var sbegin = \"\";\n",
       "    var sformat = '<a href=\"#__HREF__\">__TITLE__</a>';\n",
       "    var send = \"\";\n",
       "    var begin_format = '<li>';\n",
       "    var end_format = '</li>';\n",
       "    var keep_item = -1;\n",
       "    var text_menu = update_menu_string(sbegin, 2, 4, sformat, send, keep_item,\n",
       "       begin_format, end_format);\n",
       "    var menu = document.getElementById(\"my_id_menu_nb\");\n",
       "    menu.innerHTML=text_menu;\n",
       "};\n",
       "window.setTimeout(update_menu,2000);\n",
       "            </script>"
      ],
      "text/plain": [
       "<IPython.core.display.HTML object>"
      ]
     },
     "execution_count": 158,
     "metadata": {},
     "output_type": "execute_result"
    }
   ],
   "source": [
    "from jyquickhelper import add_notebook_menu\n",
    "add_notebook_menu()"
   ]
  },
  {
   "cell_type": "markdown",
   "metadata": {},
   "source": [
    "## 1. Introduction"
   ]
  },
  {
   "cell_type": "markdown",
   "metadata": {},
   "source": [
    "Bandwidth is one of the KPIs in the telecommunication and Internet industry. There have been a lot of research made in this field, from anomaly detection to prediction. Although many bandwidth predictions are made by telecom companies using their confidential or difficult-to-obtain data such as geolocation of base stations, number of users connected, and data flow in the backbone network, there have been relatively less work carried out in the micro point of view — distance of user's phone to the access point, shape of the room users are in, and any other characteristics specific to the particular environment in which user's devices are connected.\n",
    "\n",
    "This project attempts to study changes in the dynamics of traffic speed time series data based on distance and obstacles between devices and access point using a Change Points Detection method."
   ]
  },
  {
   "cell_type": "markdown",
   "metadata": {},
   "source": [
    "## 2. Environment"
   ]
  },
  {
   "cell_type": "markdown",
   "metadata": {},
   "source": [
    "**[Hardware]**  \n",
    "**1) Smartphone**: Smartphone with the tethering function. The two devices ( 2) & 3) ) are connected via this phone.  \n",
    "**2) Laptop (Macbook Pro)**: Laptop from which we ping the other device ( 3) ) and make analysis on.  \n",
    "**3) Raspberry Pi Zero W**: The Raspberry Pi is a low cost, credit-card sized computer. This model incorporates WiFi connectivity on board.  \n",
    "\n",
    "**[Tools]**  \n",
    "**1) Python**: Language for pinging the Raspberry Pi though and for other operations.  \n",
    "**2) Python Elasticsearch Client**: Intermeiary to access Elasticsearch.  \n",
    "**3) Elasticsearch**: Search engine to which we push the obtained ping time data.  \n",
    "**4) Kibana**: Data analysis and visualisation tool. This works in collaboration with Elasticsearch.  \n",
    "**5) Jupyter notebook** (this page): Execution platform of Python and Python Elasticsearch Client.  \n",
    "- After connecting both the laptop and the Raspberry Pi to the phone by tethering, we continue sending a ping (echo) request to the Raspberry Pi every second, and measure the time that takes until we receive a ping (echo) reply back from the Raspberry Pi."
   ]
  },
  {
   "cell_type": "markdown",
   "metadata": {},
   "source": [
    "<img src=\"./Data/env.png\" width = 60% align=\"left\">"
   ]
  },
  {
   "cell_type": "markdown",
   "metadata": {},
   "source": [
    "## 3. Method"
   ]
  },
  {
   "cell_type": "markdown",
   "metadata": {},
   "source": [
    "- We employ **changefinder** library to detect change points.\n",
    "\n",
    "- Change Finder uses SDAR（Sequentially Discounting Auto Regressive）algorithm to detect change points.\n",
    "\n",
    "- Change Finder calculates outlier score, whose higher score indicates that there was a change in the data stream.\n",
    "\n",
    "- Change point needs to be distinguished from outlier points. Change points have to capture macro-level changes of the dynamics in the time series whereas outlier points are typically just an instantaneous jump of a single data point."
   ]
  },
  {
   "cell_type": "markdown",
   "metadata": {},
   "source": [
    "## 4. Empirical Result"
   ]
  },
  {
   "cell_type": "markdown",
   "metadata": {},
   "source": [
    "- Import necessary libraries."
   ]
  },
  {
   "cell_type": "code",
   "execution_count": 66,
   "metadata": {},
   "outputs": [],
   "source": [
    "import numpy as np\n",
    "import pandas as pd\n",
    "import matplotlib.pyplot as plt\n",
    "%matplotlib inline\n",
    "from elasticsearch import Elasticsearch\n",
    "import subprocess\n",
    "import time\n",
    "import datetime\n",
    "import re\n",
    "import IPython\n",
    "import statsmodels.api as sm\n",
    "import changefinder"
   ]
  },
  {
   "cell_type": "markdown",
   "metadata": {},
   "source": [
    "### 4.1. Ping to Raspberry Pi"
   ]
  },
  {
   "cell_type": "markdown",
   "metadata": {},
   "source": [
    "- 172.20.10.6 is the IP address of the raspberry pi."
   ]
  },
  {
   "cell_type": "code",
   "execution_count": 169,
   "metadata": {
    "scrolled": true
   },
   "outputs": [
    {
     "name": "stdout",
     "output_type": "stream",
     "text": [
      "Ping to 172.20.10.6 started..\n",
      " 2019-04-28 05:43:55.906112  : 172 ms (t=12)\n",
      "ping unreachable (CalledProcessError, t=13)\n",
      " 2019-04-28 05:44:07.922764  : \n",
      "ping unreachable (CalledProcessError, t=14)\n",
      " 2019-04-28 05:44:32.646795  : 54 ms (t=26)\n",
      "ping unreachable (CalledProcessError, t=27)\n",
      " 2019-04-28 05:45:29.577544  : 32 ms (t=70))"
     ]
    },
    {
     "ename": "KeyboardInterrupt",
     "evalue": "",
     "output_type": "error",
     "traceback": [
      "\u001b[0;31m---------------------------------------------------------------------------\u001b[0m",
      "\u001b[0;31mKeyboardInterrupt\u001b[0m                         Traceback (most recent call last)",
      "\u001b[0;32m<ipython-input-169-3f31da4a5ba7>\u001b[0m in \u001b[0;36m<module>\u001b[0;34m\u001b[0m\n\u001b[1;32m      8\u001b[0m \u001b[0;34m\u001b[0m\u001b[0m\n\u001b[1;32m      9\u001b[0m \u001b[0;32mwhile\u001b[0m \u001b[0;32mTrue\u001b[0m\u001b[0;34m:\u001b[0m\u001b[0;34m\u001b[0m\u001b[0m\n\u001b[0;32m---> 10\u001b[0;31m     \u001b[0mtime\u001b[0m\u001b[0;34m.\u001b[0m\u001b[0msleep\u001b[0m\u001b[0;34m(\u001b[0m\u001b[0;36m1\u001b[0m\u001b[0;34m)\u001b[0m\u001b[0;34m\u001b[0m\u001b[0m\n\u001b[0m\u001b[1;32m     11\u001b[0m     \u001b[0mt\u001b[0m \u001b[0;34m+=\u001b[0m \u001b[0;36m1\u001b[0m\u001b[0;34m\u001b[0m\u001b[0m\n\u001b[1;32m     12\u001b[0m \u001b[0;34m\u001b[0m\u001b[0m\n",
      "\u001b[0;31mKeyboardInterrupt\u001b[0m: "
     ]
    }
   ],
   "source": [
    "es = Elasticsearch()\n",
    "t = 0\n",
    "destination = \"172.20.10.6\"\n",
    "df = pd.DataFrame({'Timestamp': [datetime.datetime.utcnow()],\n",
    "                   'ms': [0],})\n",
    "\n",
    "print('Ping to %s started..' %destination)\n",
    "\n",
    "while True:\n",
    "    time.sleep(1)\n",
    "    t += 1\n",
    "\n",
    "    timestamp = datetime.datetime.utcnow()\n",
    "    print('\\r', timestamp, ' : ', end=\"\")\n",
    "    try:\n",
    "        pg_res = subprocess.check_output([\"ping\", \"-c\", \"1\", \"-S\", \"0.0.0.0\", destination])\n",
    "        \n",
    "    except subprocess.CalledProcessError:\n",
    "        print('\\nping unreachable (CalledProcessError, t=%d)' %t)\n",
    "        continue\n",
    "    \n",
    "    ms_res = float(re.search(r\"time=([0-9]+).([0-9]+)\" , pg_res.decode('utf-8')).group(0)[5:])\n",
    "    print('%d ms (t=%d)' %(ms_res, t), end=\"\")\n",
    "    \n",
    "    new = pd.Series([timestamp, ms_res], index=df.columns)\n",
    "    df = df.append(new, ignore_index=True)\n",
    "    \n",
    "    # Create a json document to be posted to Elasticsearch\n",
    "    doc = {\n",
    "        'Timestamp': timestamp,\n",
    "        'ms': ms_res,\n",
    "    }\n",
    "    \n",
    "    # Create an index (database) that includes the document\n",
    "    res1 = es.index(index=\"ping-time-index\", doc_type='ping-time', id=t, body=doc)\n",
    "    \n",
    "    # Refresh the specified index to guarantee the searchability of the document\n",
    "    es.indices.refresh(index=\"ping-time-index\")"
   ]
  },
  {
   "cell_type": "code",
   "execution_count": 168,
   "metadata": {},
   "outputs": [],
   "source": [
    "df1 = df.drop(index=0)"
   ]
  },
  {
   "cell_type": "markdown",
   "metadata": {},
   "source": [
    "### 4.2. Data Visualisation"
   ]
  },
  {
   "cell_type": "markdown",
   "metadata": {},
   "source": [
    "- We use Kibana platform in order to visualise real-time evolution of ping time.\n",
    "- A sample picture of the real-time graph can be captured using the following command."
   ]
  },
  {
   "cell_type": "code",
   "execution_count": 159,
   "metadata": {
    "scrolled": false
   },
   "outputs": [
    {
     "data": {
      "text/html": [
       "<iframe src=\"http://localhost:5601/app/kibana#/dashboard/e9183d80-579e-11e9-b63b-f785f201c52a?embed=true&_g=(refreshInterval%3A(pause%3A!t%2Cvalue%3A0)%2Ctime%3A(from%3Anow-5m%2Cmode%3Arelative%2Cto%3Anow))\" height=\"600\" width=\"800\"></iframe>\n"
      ],
      "text/plain": [
       "<IPython.core.display.HTML object>"
      ]
     },
     "metadata": {},
     "output_type": "display_data"
    }
   ],
   "source": [
    "%%html\n",
    "<iframe src=\"http://localhost:5601/app/kibana#/dashboard/e9183d80-579e-11e9-b63b-f785f201c52a?embed=true&_g=(refreshInterval%3A(pause%3A!t%2Cvalue%3A0)%2Ctime%3A(from%3Anow-5m%2Cmode%3Arelative%2Cto%3Anow))\" height=\"600\" width=\"800\"></iframe>"
   ]
  },
  {
   "cell_type": "markdown",
   "metadata": {},
   "source": [
    "- Kill the above ping process, then the entire detailed data can be displayed as following."
   ]
  },
  {
   "cell_type": "code",
   "execution_count": 121,
   "metadata": {
    "scrolled": true
   },
   "outputs": [
    {
     "data": {
      "text/plain": [
       "<matplotlib.axes._subplots.AxesSubplot at 0x119c2ae48>"
      ]
     },
     "execution_count": 121,
     "metadata": {},
     "output_type": "execute_result"
    },
    {
     "data": {
      "image/png": "[encoded data removed]",
      "text/plain": [
       "<Figure size 432x288 with 1 Axes>"
      ]
     },
     "metadata": {
      "needs_background": "light"
     },
     "output_type": "display_data"
    }
   ],
   "source": [
    "df1.plot.line(x='Timestamp', y='ms')"
   ]
  },
  {
   "cell_type": "markdown",
   "metadata": {},
   "source": [
    "### 4.3. Time series pre-analysis\n",
    "- We run a preliminary analysis of the obtained time series data.\n",
    "- We can observe that our traffic speed data is not auto-correlated."
   ]
  },
  {
   "cell_type": "code",
   "execution_count": null,
   "metadata": {},
   "outputs": [],
   "source": [
    "df_x\n",
    "df_y"
   ]
  },
  {
   "cell_type": "code",
   "execution_count": 115,
   "metadata": {},
   "outputs": [],
   "source": [
    "df_y = df1\n",
    "raw_data = df_y.ms"
   ]
  },
  {
   "cell_type": "code",
   "execution_count": 156,
   "metadata": {},
   "outputs": [
    {
     "data": {
      "image/png": "[encoded data removed]",
      "text/plain": [
       "<Figure size 1224x288 with 3 Axes>"
      ]
     },
     "metadata": {
      "needs_background": "light"
     },
     "output_type": "display_data"
    }
   ],
   "source": [
    "plt.rcParams[\"font.size\"] = 10\n",
    "fig, ax = plt.subplots(1, 3, figsize=(17, 4))\n",
    "axes = ax.flatten()\n",
    "diff_color = \"#800000\"\n",
    "\n",
    "axes[0].plot(raw_data)\n",
    "axes[0].set_title(\"raw_data\")\n",
    "fig = sm.graphics.tsa.plot_acf(raw_data, lags=20, ax=axes[1])\n",
    "fig = sm.graphics.tsa.plot_pacf(raw_data, lags=20, ax=axes[2])"
   ]
  },
  {
   "cell_type": "code",
   "execution_count": 122,
   "metadata": {},
   "outputs": [
    {
     "name": "stderr",
     "output_type": "stream",
     "text": [
      "/Library/Frameworks/Python.framework/Versions/3.6/lib/python3.6/site-packages/ipykernel_launcher.py:1: FutureWarning: Method .as_matrix will be removed in a future version. Use .values instead.\n",
      "  \"\"\"Entry point for launching an IPython kernel.\n"
     ]
    }
   ],
   "source": [
    "data = df1['ms'].as_matrix()"
   ]
  },
  {
   "cell_type": "markdown",
   "metadata": {},
   "source": [
    "### 4.4. Change Point Detection\n",
    "- Blue: Data, Red: Change point score"
   ]
  },
  {
   "cell_type": "code",
   "execution_count": 175,
   "metadata": {},
   "outputs": [
    {
     "data": {
      "image/png": "[encoded data removed]",
      "text/plain": [
       "<Figure size 432x288 with 2 Axes>"
      ]
     },
     "metadata": {
      "needs_background": "light"
     },
     "output_type": "display_data"
    }
   ],
   "source": [
    "\"\"\"data=np.concatenate([np.random.normal(0.7, 0.05, 300),\n",
    "np.random.normal(1.5, 0.05, 300),\n",
    "np.random.normal(0.6, 0.05, 300),\n",
    "np.random.normal(1.3, 0.05, 300)])\n",
    "\"\"\"\n",
    " \n",
    "cf = changefinder.ChangeFinder(r=0.02, order=3, smooth=8)\n",
    " \n",
    "ret = []\n",
    "for i in data:\n",
    "    score = cf.update(i)\n",
    "    ret.append(score)\n",
    " \n",
    "fig = plt.figure()\n",
    "ax = fig.add_subplot(111)\n",
    "ax.plot(ret, 'r')\n",
    "ax2 = ax.twinx()\n",
    "ax2.plot(data)\n",
    "plt.show()"
   ]
  },
  {
   "cell_type": "markdown",
   "metadata": {},
   "source": [
    "## 5. Conclusion"
   ]
  },
  {
   "cell_type": "markdown",
   "metadata": {},
   "source": [
    "- We have identified change points correctly with a minor number of errors.\n",
    "- For further development, change point can be detected online then alert it via Kibana (and email). To do this, calculating the outlier score with regular interval (e.g. 10 seconds) could be an option.\n",
    "- There is also a possibility to fine tune the hyperparameters of the model based on the user's environment. Further empirical research with different kinds of environment could be a help."
   ]
  }
 ],
 "metadata": {
  "kernelspec": {
   "display_name": "Python 3",
   "language": "python",
   "name": "python3"
  },
  "language_info": {
   "codemirror_mode": {
    "name": "ipython",
    "version": 3
   },
   "file_extension": ".py",
   "mimetype": "text/x-python",
   "name": "python",
   "nbconvert_exporter": "python",
   "pygments_lexer": "ipython3",
   "version": "3.6.6"
  }
 },
 "nbformat": 4,
 "nbformat_minor": 2
}
