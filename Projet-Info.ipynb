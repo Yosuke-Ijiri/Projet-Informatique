{
 "cells": [
  {
   "cell_type": "markdown",
   "metadata": {},
   "source": [
    "<img src=\"./Data/images/logo-ensae.jpg\" width = 40%>"
   ]
  },
  {
   "cell_type": "markdown",
   "metadata": {},
   "source": [
    "<img src=\"./Data/images/logo-ipparis.jpg\" width = 30%>"
   ]
  },
  {
   "cell_type": "markdown",
   "metadata": {},
   "source": [
    "**\"Projet Informatique\", S2 2018-19** \n",
    "# *Wireless Data Traffic Change Points Detection*  \n",
    "\n",
    "**Yosuke IJIRI**, *Mastère Spécialisé Data Science, ENSAE ParisTech*  "
   ]
  },
  {
   "cell_type": "markdown",
   "metadata": {},
   "source": [
    "## Abstract\n",
    "Wireless data traffic is invisible, yet is one of the most common and indispensable things on which we rely in our daily life from emails and voice calls to watching videos. Amongst data traffic, bandwidth is a major KPI in terms of network quality and largely depends on the wireless signal strength which varies with distance to the access point. This project attempts to detect changes in the distance- or condition- based dynamics of traffic speed time series. We employ Changer Finder as a Change Point Detection algorithm in order to detect the timings when the distance or signal condition (e.g. interferance in the signal due to obstables such as walls and doors) between two communicating devices are changed."
   ]
  },
  {
   "cell_type": "code",
   "execution_count": 158,
   "metadata": {},
   "outputs": [
    {
     "data": {
      "text/html": [
       "<div id=\"my_id_menu_nb\">run previous cell, wait for 2 seconds</div>\n",
       "<script>\n",
       "function repeat_indent_string(n){\n",
       "    var a = \"\" ;\n",
       "    for ( ; n > 0 ; --n)\n",
       "        a += \"    \";\n",
       "    return a;\n",
       "}\n",
       "// look up into all sections and builds an automated menu //\n",
       "var update_menu_string = function(begin, lfirst, llast, sformat, send, keep_item, begin_format, end_format) {\n",
       "    var anchors = document.getElementsByClassName(\"section\");\n",
       "    if (anchors.length == 0) {\n",
       "        anchors = document.getElementsByClassName(\"text_cell_render rendered_html\");\n",
       "    }\n",
       "    var i,t;\n",
       "    var text_menu = begin;\n",
       "    var text_memo = \"<pre>\\nlength:\" + anchors.length + \"\\n\";\n",
       "    var ind = \"\";\n",
       "    var memo_level = 1;\n",
       "    var href;\n",
       "    var tags = [];\n",
       "    var main_item = 0;\n",
       "    var format_open = 0;\n",
       "    for (i = 0; i <= llast; i++)\n",
       "        tags.push(\"h\" + i);\n",
       "\n",
       "    for (i = 0; i < anchors.length; i++) {\n",
       "        text_memo += \"**\" + anchors[i].id + \"--\\n\";\n",
       "\n",
       "        var child = null;\n",
       "        for(t = 0; t < tags.length; t++) {\n",
       "            var r = anchors[i].getElementsByTagName(tags[t]);\n",
       "            if (r.length > 0) {\n",
       "child = r[0];\n",
       "break;\n",
       "            }\n",
       "        }\n",
       "        if (child == null) {\n",
       "            text_memo += \"null\\n\";\n",
       "            continue;\n",
       "        }\n",
       "        if (anchors[i].hasAttribute(\"id\")) {\n",
       "            // when converted in RST\n",
       "            href = anchors[i].id;\n",
       "            text_memo += \"#1-\" + href;\n",
       "            // passer à child suivant (le chercher)\n",
       "        }\n",
       "        else if (child.hasAttribute(\"id\")) {\n",
       "            // in a notebook\n",
       "            href = child.id;\n",
       "            text_memo += \"#2-\" + href;\n",
       "        }\n",
       "        else {\n",
       "            text_memo += \"#3-\" + \"*\" + \"\\n\";\n",
       "            continue;\n",
       "        }\n",
       "        var title = child.textContent;\n",
       "        var level = parseInt(child.tagName.substring(1,2));\n",
       "\n",
       "        text_memo += \"--\" + level + \"?\" + lfirst + \"--\" + title + \"\\n\";\n",
       "\n",
       "        if ((level < lfirst) || (level > llast)) {\n",
       "            continue ;\n",
       "        }\n",
       "        if (title.endsWith('¶')) {\n",
       "            title = title.substring(0,title.length-1).replace(\"<\", \"&lt;\")\n",
       "         .replace(\">\", \"&gt;\").replace(\"&\", \"&amp;\");\n",
       "        }\n",
       "        if (title.length == 0) {\n",
       "            continue;\n",
       "        }\n",
       "\n",
       "        while (level < memo_level) {\n",
       "            text_menu += end_format + \"</ul>\\n\";\n",
       "            format_open -= 1;\n",
       "            memo_level -= 1;\n",
       "        }\n",
       "        if (level == lfirst) {\n",
       "            main_item += 1;\n",
       "        }\n",
       "        if (keep_item != -1 && main_item != keep_item + 1) {\n",
       "            // alert(main_item + \" - \" + level + \" - \" + keep_item);\n",
       "            continue;\n",
       "        }\n",
       "        while (level > memo_level) {\n",
       "            text_menu += \"<ul>\\n\";\n",
       "            memo_level += 1;\n",
       "        }\n",
       "        text_menu += repeat_indent_string(level-2);\n",
       "        text_menu += begin_format + sformat.replace(\"__HREF__\", href).replace(\"__TITLE__\", title);\n",
       "        format_open += 1;\n",
       "    }\n",
       "    while (1 < memo_level) {\n",
       "        text_menu += end_format + \"</ul>\\n\";\n",
       "        memo_level -= 1;\n",
       "        format_open -= 1;\n",
       "    }\n",
       "    text_menu += send;\n",
       "    //text_menu += \"\\n\" + text_memo;\n",
       "\n",
       "    while (format_open > 0) {\n",
       "        text_menu += end_format;\n",
       "        format_open -= 1;\n",
       "    }\n",
       "    return text_menu;\n",
       "};\n",
       "var update_menu = function() {\n",
       "    var sbegin = \"\";\n",
       "    var sformat = '<a href=\"#__HREF__\">__TITLE__</a>';\n",
       "    var send = \"\";\n",
       "    var begin_format = '<li>';\n",
       "    var end_format = '</li>';\n",
       "    var keep_item = -1;\n",
       "    var text_menu = update_menu_string(sbegin, 2, 4, sformat, send, keep_item,\n",
       "       begin_format, end_format);\n",
       "    var menu = document.getElementById(\"my_id_menu_nb\");\n",
       "    menu.innerHTML=text_menu;\n",
       "};\n",
       "window.setTimeout(update_menu,2000);\n",
       "            </script>"
      ],
      "text/plain": [
       "<IPython.core.display.HTML object>"
      ]
     },
     "execution_count": 158,
     "metadata": {},
     "output_type": "execute_result"
    }
   ],
   "source": [
    "from jyquickhelper import add_notebook_menu\n",
    "add_notebook_menu()"
   ]
  },
  {
   "cell_type": "markdown",
   "metadata": {},
   "source": [
    "## 1. Introduction"
   ]
  },
  {
   "cell_type": "markdown",
   "metadata": {},
   "source": [
    "Bandwidth is one of the KPIs in the telecommunication and Internet industry. There have been a lot of research made in this field, from anomaly detection to prediction. Although many bandwidth predictions are made by telecom companies using their confidential or difficult-to-obtain data such as geolocation of base stations, number of users connected, and data flow in the backbone network, there have been relatively less work carried out in the micro point of view — distance of user's phone to the access point, shape of the room users are in, and any other characteristics specific to the particular environment in which user's devices are connected.\n",
    "\n",
    "Hence, in this project, we focus on the fluctuation of wireless data traffic speed in a combination with changes in pysical distance between devices and changes in signal conditions of the place where the signal flows. In other words, we test the performance of Change Point Detection method using the data of wireless traffic flow speed.\n",
    "\n",
    "There have been increasing amount of research in Change Point Detection especially in application to the network security areas where it is critical for operators to detect changes in their networks due to network failure or cyber attacks (e.g. DDoS attack). Another example, though prediction is more often used for this purpose, is to utilise the detected change points as the timing to change the resolution of streaming video (e.g. Netflix). Higher resolution gives higher quality of video but requires larger bandwidth capacity, thus changing the resolution according to varying data flow speed benefits users' experience. In the areas of these examples above, the ability of employed method to detect such points in real time and to afford data that changes its characteristics over time is necessary.\n",
    "\n",
    "For example, Unit Root method can afford two different statistical models in one time series data by testing null hypothesis that the two models are statistically the same. This, however, cannot deal with data changing its charasteristics further.\n",
    "\n",
    "One of the solid Change Point Detection methods to deal with non-stationary time series in real-time manner is Change Finder introduced by [*Takeuchi and Yamanishi (2006)*](https://doi.org/10.1109/TKDE.2006.1599387). This method utilises the Sequentially Discounting Auto Regressive (SDAR) algorithm twice in two different stages. The following section 2 (2. Environment) describes our environment used in the experiment, and section 3 (3. Method) explains the the SDAR and the two-stage method of the Change Finder. Our empirical result is shown in section 4, and finally conclusion comes in section 5."
   ]
  },
  {
   "cell_type": "markdown",
   "metadata": {},
   "source": [
    "## 2. Environment"
   ]
  },
  {
   "cell_type": "markdown",
   "metadata": {},
   "source": [
    "We run our experiment with the following environment settings. \n",
    "\n",
    "**[Hardware]**  \n",
    "**1) Smartphone**: Smartphone with the tethering function. The two devices ( 2) & 3) ) are connected via this phone.  \n",
    "**2) Laptop (Macbook Pro)**: Laptop from which we ping the other device ( 3) ) and make analysis on.  \n",
    "**3) Raspberry Pi Zero W**: The Raspberry Pi is a low cost, credit-card sized computer. This model incorporates WiFi connectivity on board.  \n",
    "\n",
    "**[Tools]**  \n",
    "**1) Python**: Language for pinging the Raspberry Pi though and for other operations.  \n",
    "**2) Python Elasticsearch Client**: Intermeiary to access Elasticsearch.  \n",
    "**3) Elasticsearch**: Search engine to which we push the obtained ping time data.  \n",
    "**4) Kibana**: Data analysis and visualisation tool. This works in collaboration with Elasticsearch.  \n",
    "**5) Jupyter notebook** (this page): Execution platform of Python and Python Elasticsearch Client.  \n",
    "\n",
    "After connecting both the laptop and the Raspberry Pi to the phone using tethering, we continue sending a ping (echo) request to the Raspberry Pi every second, and measure the time that takes until we receive a ping (echo) reply back from the Raspberry Pi."
   ]
  },
  {
   "cell_type": "markdown",
   "metadata": {},
   "source": [
    "Image of the environment:  \n",
    "<img src=\"./Data/images/env.png\" width = 60% align=\"left\">"
   ]
  },
  {
   "cell_type": "markdown",
   "metadata": {},
   "source": [
    "## 3. Method"
   ]
  },
  {
   "cell_type": "markdown",
   "metadata": {},
   "source": [
    "We employ **changefinder** library to detect change points. Change Finder uses **Sequentially Discounting Auto Regressive (SDAR)** algorithm to detect change points. It calculates outlier score and then change point score, whose higher score indicates that there was a change in the data stream. Change point needs to be distinguished from outlier points. Change points have to capture macro-level changes of the dynamics in the time series whereas outlier points are typically just an instantaneous jump of a single data point. Change Finder consists of two stages of learning:\n",
    "\n",
    "**[Stage 1]**\n",
    "- Estimate parameters that maximise below value:\n",
    "$$I = \\sum_{i=1}^{t}(1-r)^{t-i}\\log P(x_i|x^{i-1},A_1,…,A_k,\\mu,\\Sigma)$$\n",
    "The weight, $(1-r)^{t-i}$, decays as the time goes by ( $0<r<1$ ). This means that it decreases the weight for past data. It allows us to extract characteristics of the series in real time, thus affords non-stationary data. \n",
    "\n",
    "- Then outlier score is calculated using the parameters (density function) obtained by the SDAR. The higher the value of the score, the higher the probability that the data point is an outlier.\n",
    "$$Score(x_t) = -\\log P_{t-1}(x_t|x^{t-1})$$\n",
    "\n",
    "- In order to prepare for the second stage, we smooth the graph of the outlier scores by taking the average of the scores from specified length of the past time to present ($t$) time. (i.e. $y_t = \\frac{1}{W}\\sum_{t-W+1}^{t}Score(x_i)\n",
    "$)\n",
    "\n",
    "**[Stage 2]**\n",
    "- We can run the SDAR again not on the original data but on the smoothed outlier scores. The resulted score function (log loss function) this time calculates **change point score**. That way, this method deals with outliers and change points in the same framework (SDAR).\n",
    "\n",
    "- Because this method takes a fixed number of past data into account just like shifting the window over the data, it requies less computation load to execute the algorithms compared to the simple Auto-Regressive (AR) model.\n",
    "\n",
    "As we can see from the formulas of the method, we have three hyperparameters that we can tune:  \n",
    "  - **r**: This can be regarded as a decay weight parameter. This specifies how much we want to control influence from the past when it estimate the probability density function.  \n",
    "  - **order** ($=k$ in the above formula):  This defines how many past step data points we want to take into account in the model.  \n",
    "  - **smooth** ($=W$ in the above formula):  Ths parameter indicates the degree of smoothness for the smoothed outlier score graph as explained at the end of Stage 1. Increasing this variable leads to smoothing with a wider window, meaning that it becomes less sensitive to outliers and considers longer-term change in the dynamics as a changing point, but instead less perceptive to real change points."
   ]
  },
  {
   "cell_type": "markdown",
   "metadata": {},
   "source": [
    "## 4. Empirical Result"
   ]
  },
  {
   "cell_type": "markdown",
   "metadata": {},
   "source": [
    "Import necessary libraries."
   ]
  },
  {
   "cell_type": "code",
   "execution_count": 14,
   "metadata": {},
   "outputs": [],
   "source": [
    "import numpy as np\n",
    "import pandas as pd\n",
    "import matplotlib.pyplot as plt\n",
    "%matplotlib inline\n",
    "from elasticsearch import Elasticsearch\n",
    "import subprocess\n",
    "import time\n",
    "import datetime\n",
    "import re\n",
    "import IPython\n",
    "import statsmodels.api as sm\n",
    "import changefinder\n",
    "import warnings\n",
    "warnings.filterwarnings(action='once')"
   ]
  },
  {
   "cell_type": "markdown",
   "metadata": {},
   "source": [
    "### 4.1. Ping to Raspberry Pi"
   ]
  },
  {
   "cell_type": "markdown",
   "metadata": {},
   "source": [
    "Now we send ping packets from the laptop to the Raspberry Pi.\n",
    "- Ping is sent every second and its result (time in millisecond) is pushed one by one to Elasticsearch to be displayed in Kibana in a real-time graph.\n",
    "- 172.20.10.6 is the IP address of the Raspberry Pi.\n",
    "- We record 1000 ms in case of ping unreachable (timeout).\n",
    "- During the pings, we change the physical location of either or all of the Phone, Laptop or/and Raspberry Pi. We continue pinging for one hour, and the location changes are done manually every 10 minutes (i.e. 5 times in total) which should cause 'changes' in the dynamics of the data. This can be regarded as a reasonable setting since we normally spend a bunch of time at the same location before moving to a next location rather than keep moving around using our smartphone.  \n",
    "- Our objective is **1) to visualise the ping response time in real time on Kibana**, and **2) to correctly detect the 5 location changes only based on the ping response time series**."
   ]
  },
  {
   "cell_type": "code",
   "execution_count": 15,
   "metadata": {
    "scrolled": false
   },
   "outputs": [
    {
     "name": "stdout",
     "output_type": "stream",
     "text": [
      "Ping to 172.20.10.6 started..\n",
      " 2019-04-28 14:15:05.492138  : 7 ms (t=5))"
     ]
    },
    {
     "name": "stderr",
     "output_type": "stream",
     "text": [
      "/Library/Frameworks/Python.framework/Versions/3.6/lib/python3.6/site-packages/pandas/core/internals/concat.py:455: ResourceWarning: unclosed <socket.socket fd=61, family=AddressFamily.AF_INET6, type=SocketKind.SOCK_STREAM, proto=6, laddr=('::1', 49572, 0, 0), raddr=('::1', 9200, 0, 0)>\n",
      "  next_items = list(map(_next_or_none, plans))\n",
      "/Library/Frameworks/Python.framework/Versions/3.6/lib/python3.6/site-packages/pandas/core/internals/concat.py:455: ResourceWarning: unclosed <socket.socket fd=65, family=AddressFamily.AF_INET6, type=SocketKind.SOCK_STREAM, proto=6, laddr=('::1', 50282, 0, 0), raddr=('::1', 9200, 0, 0)>\n",
      "  next_items = list(map(_next_or_none, plans))\n"
     ]
    },
    {
     "name": "stdout",
     "output_type": "stream",
     "text": [
      " 2019-04-28 14:25:46.986229  : 32 ms (t=605))93 ms (t=13)\n",
      "ping unreachable (CalledProcessError, t=606)\n",
      " 2019-04-28 14:29:10.942863  : 35 ms (t=786))13 ms (t=687)303 ms (t=763)\n",
      "ping unreachable (CalledProcessError, t=787)\n",
      " 2019-04-28 14:30:31.764967  : 50 ms (t=851))\n",
      "ping unreachable (CalledProcessError, t=852)\n",
      " 2019-04-28 14:31:19.756472  : 115 ms (t=885)300 ms (t=866)\n",
      "ping unreachable (CalledProcessError, t=886)\n",
      " 2019-04-28 14:32:29.458521  : 36 ms (t=940)\n",
      "ping unreachable (CalledProcessError, t=941)\n",
      " 2019-04-28 14:33:39.600131  : 8 ms (t=995)))221 ms (t=993)\n",
      "ping unreachable (CalledProcessError, t=996)\n",
      " 2019-04-28 14:35:15.003619  : 33 ms (t=1074))39 ms (t=1038)\n",
      "ping unreachable (CalledProcessError, t=1075)\n",
      " 2019-04-28 14:35:27.045704  : \n",
      "ping unreachable (CalledProcessError, t=1076)\n",
      " 2019-04-28 14:35:40.156476  : 40 ms (t=1077)\n",
      "ping unreachable (CalledProcessError, t=1078)\n",
      " 2019-04-28 14:35:57.593062  : 47 ms (t=1083)\n",
      "ping unreachable (CalledProcessError, t=1084)\n",
      " 2019-04-28 14:36:11.888977  : 46 ms (t=1086))\n",
      "ping unreachable (CalledProcessError, t=1087)\n",
      " 2019-04-28 14:36:24.967843  : 12 ms (t=1088)\n",
      "ping unreachable (CalledProcessError, t=1089)\n",
      " 2019-04-28 14:37:08.072843  : 35 ms (t=1118)\n",
      "ping unreachable (CalledProcessError, t=1119)\n",
      " 2019-04-28 14:37:38.235519  : 32 ms (t=1136)\n",
      "ping unreachable (CalledProcessError, t=1137)\n",
      " 2019-04-28 14:43:44.765724  : 32 ms (t=1469))04 ms (t=1168)742 ms (t=1448)\n",
      "ping unreachable (CalledProcessError, t=1470)\n",
      " 2019-04-28 14:44:57.568516  : 8 ms (t=1527)))\n",
      "ping unreachable (CalledProcessError, t=1528)\n",
      " 2019-04-28 14:51:58.369842  : 32 ms (t=1912))229 ms (t=1747)265 ms (t=1754)\n",
      "ping unreachable (CalledProcessError, t=1913)\n",
      " 2019-04-28 14:53:02.773771  : 32 ms (t=1962)\n",
      "ping unreachable (CalledProcessError, t=1963)\n",
      " 2019-04-28 14:53:40.923589  : 33 ms (t=1987)332 ms (t=1973)\n",
      "ping unreachable (CalledProcessError, t=1988)\n",
      " 2019-04-28 14:54:29.489387  : 39 ms (t=2022)\n",
      "ping unreachable (CalledProcessError, t=2023)\n",
      " 2019-04-28 14:55:10.421150  : 11 ms (t=2050)\n",
      "ping unreachable (CalledProcessError, t=2051)\n",
      " 2019-04-28 14:55:22.460719  : \n",
      "ping unreachable (CalledProcessError, t=2052)\n",
      " 2019-04-28 14:55:34.505949  : \n",
      "ping unreachable (CalledProcessError, t=2053)\n",
      " 2019-04-28 14:55:46.590032  : \n",
      "ping unreachable (CalledProcessError, t=2054)\n",
      " 2019-04-28 14:55:58.639898  : \n",
      "ping unreachable (CalledProcessError, t=2055)\n",
      " 2019-04-28 14:56:12.800967  : 41 ms (t=2057)\n",
      "ping unreachable (CalledProcessError, t=2058)\n",
      " 2019-04-28 14:56:24.839851  : \n",
      "ping unreachable (CalledProcessError, t=2059)\n",
      " 2019-04-28 14:56:36.872135  : \n",
      "ping unreachable (CalledProcessError, t=2060)\n",
      " 2019-04-28 14:56:48.905303  : \n",
      "ping unreachable (CalledProcessError, t=2061)\n",
      " 2019-04-28 14:57:04.392630  : 176 ms (t=2064)\n",
      "ping unreachable (CalledProcessError, t=2065)\n",
      " 2019-04-28 14:57:16.425316  : \n",
      "ping unreachable (CalledProcessError, t=2066)\n",
      " 2019-04-28 14:57:41.386507  : 39 ms (t=2078))\n",
      "ping unreachable (CalledProcessError, t=2079)\n",
      " 2019-04-28 14:58:00.870596  : 82 ms (t=2086)\n",
      "ping unreachable (CalledProcessError, t=2087)\n",
      " 2019-04-28 14:58:12.950440  : \n",
      "ping unreachable (CalledProcessError, t=2088)\n",
      " 2019-04-28 14:58:24.977982  : \n",
      "ping unreachable (CalledProcessError, t=2089)\n",
      " 2019-04-28 14:58:40.145896  : 8 ms (t=2092))\n",
      "ping unreachable (CalledProcessError, t=2093)\n",
      " 2019-04-28 14:58:52.181238  : \n",
      "ping unreachable (CalledProcessError, t=2094)\n",
      " 2019-04-28 14:59:04.215364  : \n",
      "ping unreachable (CalledProcessError, t=2095)\n",
      " 2019-04-28 14:59:16.258436  : \n",
      "ping unreachable (CalledProcessError, t=2096)\n",
      " 2019-04-28 14:59:28.298636  : \n",
      "ping unreachable (CalledProcessError, t=2097)\n",
      " 2019-04-28 14:59:53.234454  : 11 ms (t=2109)199 ms (t=2108)\n",
      "ping unreachable (CalledProcessError, t=2110)\n",
      " 2019-04-28 15:00:13.909093  : 45 ms (t=2118)\n",
      "ping unreachable (CalledProcessError, t=2119)\n",
      " 2019-04-28 15:00:27.753241  : 771 ms (t=2120)\n",
      "ping unreachable (CalledProcessError, t=2121)\n",
      " 2019-04-28 15:00:39.788938  : \n",
      "ping unreachable (CalledProcessError, t=2122)\n",
      " 2019-04-28 15:00:51.828791  : \n",
      "ping unreachable (CalledProcessError, t=2123)\n",
      " 2019-04-28 15:01:03.867058  : \n",
      "ping unreachable (CalledProcessError, t=2124)\n",
      " 2019-04-28 15:01:15.902749  : \n",
      "ping unreachable (CalledProcessError, t=2125)\n",
      " 2019-04-28 15:01:27.951840  : \n",
      "ping unreachable (CalledProcessError, t=2126)\n",
      " 2019-04-28 15:01:40.034939  : \n",
      "ping unreachable (CalledProcessError, t=2127)\n",
      " 2019-04-28 15:01:52.082951  : \n",
      "ping unreachable (CalledProcessError, t=2128)\n",
      " 2019-04-28 15:02:09.528335  : 34 ms (t=2133))\n",
      "ping unreachable (CalledProcessError, t=2134)\n",
      " 2019-04-28 15:02:21.563496  : \n",
      "ping unreachable (CalledProcessError, t=2135)\n",
      " 2019-04-28 15:02:37.939515  : 115 ms (t=2137))\n",
      "ping unreachable (CalledProcessError, t=2138)\n",
      " 2019-04-28 15:02:52.377777  : 1366 ms (t=2139)\n",
      "ping unreachable (CalledProcessError, t=2140)\n",
      " 2019-04-28 15:03:04.417414  : \n",
      "ping unreachable (CalledProcessError, t=2141)\n",
      " 2019-04-28 15:03:16.452129  : \n",
      "ping unreachable (CalledProcessError, t=2142)\n",
      " 2019-04-28 15:03:28.486814  : \n",
      "ping unreachable (CalledProcessError, t=2143)\n",
      " 2019-04-28 15:03:40.523985  : \n",
      "ping unreachable (CalledProcessError, t=2144)\n",
      " 2019-04-28 15:04:26.519924  : 37 ms (t=2172))533 ms (t=2146)855 ms (t=2147)521 ms (t=2149)1151 ms (t=2152)\n",
      "ping unreachable (CalledProcessError, t=2173)\n",
      " 2019-04-28 15:04:38.558540  : \n",
      "ping unreachable (CalledProcessError, t=2174)\n",
      " 2019-04-28 15:05:10.007861  : 177 ms (t=2192)32 ms (t=2190)\n",
      "ping unreachable (CalledProcessError, t=2193)\n",
      " 2019-04-28 15:05:22.046171  : \n",
      "ping unreachable (CalledProcessError, t=2194)\n",
      " 2019-04-28 15:05:34.090502  : \n",
      "ping unreachable (CalledProcessError, t=2195)\n",
      " 2019-04-28 15:05:46.125283  : \n",
      "ping unreachable (CalledProcessError, t=2196)\n",
      " 2019-04-28 15:05:58.160864  : \n",
      "ping unreachable (CalledProcessError, t=2197)\n",
      " 2019-04-28 15:06:10.201991  : \n",
      "ping unreachable (CalledProcessError, t=2198)\n",
      " 2019-04-28 15:06:56.325492  : 4 ms (t=2230))\n",
      "ping unreachable (CalledProcessError, t=2231)\n",
      " 2019-04-28 15:09:27.829851  : 32 ms (t=2362))\n",
      "ping unreachable (CalledProcessError, t=2363)\n",
      " 2019-04-28 15:09:47.309114  : 33 ms (t=2370)\n",
      "ping unreachable (CalledProcessError, t=2371)\n",
      " 2019-04-28 15:10:01.476114  : 41 ms (t=2373)\n",
      "ping unreachable (CalledProcessError, t=2374)\n",
      " 2019-04-28 15:10:13.530797  : \n",
      "ping unreachable (CalledProcessError, t=2375)\n",
      " 2019-04-28 15:11:45.386594  : 8 ms (t=2449))\n",
      "ping unreachable (CalledProcessError, t=2450)\n",
      " 2019-04-28 15:12:15.868145  : 31 ms (t=2467)\n",
      "ping unreachable (CalledProcessError, t=2468)\n",
      " 2019-04-28 15:12:45.021543  : 32 ms (t=2484)\n",
      "ping unreachable (CalledProcessError, t=2485)\n",
      " 2019-04-28 15:13:24.819668  : 33 ms (t=2511)\n",
      "ping unreachable (CalledProcessError, t=2512)\n",
      " 2019-04-28 15:13:37.909307  : 21 ms (t=2513)\n",
      "ping unreachable (CalledProcessError, t=2514)\n",
      " 2019-04-28 15:13:57.404608  : 117 ms (t=2521)\n",
      "ping unreachable (CalledProcessError, t=2522)\n",
      " 2019-04-28 15:14:56.646763  : 32 ms (t=2566)\n",
      "ping unreachable (CalledProcessError, t=2567)\n",
      " 2019-04-28 15:15:10.834562  : 35 ms (t=2570)"
     ]
    },
    {
     "ename": "KeyboardInterrupt",
     "evalue": "",
     "output_type": "error",
     "traceback": [
      "\u001b[0;31m---------------------------------------------------------------------------\u001b[0m",
      "\u001b[0;31mKeyboardInterrupt\u001b[0m                         Traceback (most recent call last)",
      "\u001b[0;32m<ipython-input-15-e30d3aa1b1f0>\u001b[0m in \u001b[0;36m<module>\u001b[0;34m\u001b[0m\n\u001b[1;32m      8\u001b[0m \u001b[0;34m\u001b[0m\u001b[0m\n\u001b[1;32m      9\u001b[0m \u001b[0;32mwhile\u001b[0m \u001b[0;32mTrue\u001b[0m\u001b[0;34m:\u001b[0m\u001b[0;34m\u001b[0m\u001b[0m\n\u001b[0;32m---> 10\u001b[0;31m     \u001b[0mtime\u001b[0m\u001b[0;34m.\u001b[0m\u001b[0msleep\u001b[0m\u001b[0;34m(\u001b[0m\u001b[0;36m1\u001b[0m\u001b[0;34m)\u001b[0m\u001b[0;34m\u001b[0m\u001b[0m\n\u001b[0m\u001b[1;32m     11\u001b[0m     \u001b[0mt\u001b[0m \u001b[0;34m+=\u001b[0m \u001b[0;36m1\u001b[0m\u001b[0;34m\u001b[0m\u001b[0m\n\u001b[1;32m     12\u001b[0m \u001b[0;34m\u001b[0m\u001b[0m\n",
      "\u001b[0;31mKeyboardInterrupt\u001b[0m: "
     ]
    }
   ],
   "source": [
    "es = Elasticsearch()\n",
    "t = 0\n",
    "destination = \"172.20.10.6\"\n",
    "df = pd.DataFrame({'Timestamp': [datetime.datetime.utcnow()],\n",
    "                   'ms': [0],})\n",
    "\n",
    "print('Ping to %s started..' %destination)\n",
    "\n",
    "while True:\n",
    "    time.sleep(1)\n",
    "    t += 1\n",
    "\n",
    "    timestamp = datetime.datetime.utcnow()\n",
    "    print('\\r', timestamp, ' : ', end=\"\")\n",
    "    try:\n",
    "        pg_res = subprocess.check_output([\"ping\", \"-c\", \"1\", \"-S\", \"0.0.0.0\", destination])\n",
    "        \n",
    "    except subprocess.CalledProcessError:\n",
    "        print('\\nping unreachable (CalledProcessError, t=%d)' %t)\n",
    "        ms_res = 1000.0\n",
    "        new = pd.Series([timestamp, ms_res], index=df.columns)\n",
    "        df = df.append(new, ignore_index=True)\n",
    "        doc = {\n",
    "        'Timestamp': timestamp,\n",
    "        'ms': ms_res,}\n",
    "        res1 = es.index(index=\"ping-time-index\", doc_type='ping-time', id=t, body=doc)\n",
    "        es.indices.refresh(index=\"ping-time-index\")\n",
    "        continue\n",
    "    \n",
    "    ms_res = float(re.search(r\"time=([0-9]+).([0-9]+)\" , pg_res.decode('utf-8')).group(0)[5:])\n",
    "    print('%d ms (t=%d)               ' %(ms_res, t), end=\"\")\n",
    "    \n",
    "    new = pd.Series([timestamp, ms_res], index=df.columns)\n",
    "    df = df.append(new, ignore_index=True)\n",
    "    \n",
    "    # Create a json document to be posted to Elasticsearch\n",
    "    doc = {\n",
    "        'Timestamp': timestamp,\n",
    "        'ms': ms_res,\n",
    "    }\n",
    "    \n",
    "    # Create an index (database) that includes the document\n",
    "    res1 = es.index(index=\"ping-time-index\", doc_type='ping-time', id=t, body=doc)\n",
    "    \n",
    "    # Refresh the specified index to guarantee the searchability of the document\n",
    "    es.indices.refresh(index=\"ping-time-index\")"
   ]
  },
  {
   "cell_type": "code",
   "execution_count": null,
   "metadata": {},
   "outputs": [],
   "source": [
    "df = df.drop(index=0)"
   ]
  },
  {
   "cell_type": "markdown",
   "metadata": {},
   "source": [
    "### 4.2. Data visualisation"
   ]
  },
  {
   "cell_type": "markdown",
   "metadata": {},
   "source": [
    "- We use Kibana platform in order to visualise the real-time evolution of the ping response time. (The Kibana graph embeded here would not be displayed unless we are running the pings at the same timing as your view of this notebook.)\n",
    "- A sample screenshot of the real-time graph is shown below."
   ]
  },
  {
   "cell_type": "code",
   "execution_count": 24,
   "metadata": {},
   "outputs": [
    {
     "data": {
      "text/html": [
       "<!-- real time graph -->\n",
       "<iframe src=\"http://localhost:5601/app/kibana#/dashboard/e9183d80-579e-11e9-b63b-f785f201c52a?embed=true&_g=(refreshInterval%3A(pause%3A!t%2Cvalue%3A0)%2Ctime%3A(from%3Anow-5m%2Cmode%3Arelative%2Cto%3Anow))\"\n",
       "height=\"500\" width=\"600\"></iframe>\n"
      ],
      "text/plain": [
       "<IPython.core.display.HTML object>"
      ]
     },
     "metadata": {},
     "output_type": "display_data"
    }
   ],
   "source": [
    "%%html\n",
    "<!-- real time graph -->\n",
    "<iframe src=\"http://localhost:5601/app/kibana#/dashboard/e9183d80-579e-11e9-b63b-f785f201c52a?embed=true&_g=(refreshInterval%3A(pause%3A!t%2Cvalue%3A0)%2Ctime%3A(from%3Anow-5m%2Cmode%3Arelative%2Cto%3Anow))\"\n",
    "height=\"500\" width=\"600\"></iframe>"
   ]
  },
  {
   "cell_type": "markdown",
   "metadata": {},
   "source": [
    "- Screenshot of the Kibana graph  \n",
    "<img src=\"./Data/images/kibana_screenshot.png\" width = 60% align=\"left\">"
   ]
  },
  {
   "cell_type": "markdown",
   "metadata": {},
   "source": [
    "- Kill the above ping process and run the below cell, then a matplotlib graph of the entire data will be displayed as following.\n",
    "- The green vertical lines indicate the timing of the actual changes in the location. (The values of the x-axis are the sequential number of the ping packets.)"
   ]
  },
  {
   "cell_type": "code",
   "execution_count": 16,
   "metadata": {},
   "outputs": [],
   "source": [
    "data = df['ms'].values"
   ]
  },
  {
   "cell_type": "code",
   "execution_count": 22,
   "metadata": {},
   "outputs": [],
   "source": [
    "df.to_csv(\"Data/ping_result_20190428.csv\")"
   ]
  },
  {
   "cell_type": "code",
   "execution_count": 86,
   "metadata": {
    "scrolled": true
   },
   "outputs": [
    {
     "name": "stdout",
     "output_type": "stream",
     "text": [
      "2571 pings were sent.\n"
     ]
    },
    {
     "data": {
      "image/png": "[encoded data removed]",
      "text/plain": [
       "<Figure size 432x288 with 2 Axes>"
      ]
     },
     "metadata": {
      "needs_background": "light"
     },
     "output_type": "display_data"
    }
   ],
   "source": [
    "print(len(data), 'pings were sent.')\n",
    "fig = plt.figure()\n",
    "ax = fig.add_subplot(111)\n",
    "ax.plot(data)\n",
    "plt.xlabel('Sequential ID of the Ping packets')\n",
    "plt.ylabel('Ping response time (ms)')\n",
    "ax2 = ax.twinx()\n",
    "ax2.vlines([565, 1060, 1525, 2045, 2180], ymin=min(data), ymax=max(data), colors=\"lightgreen\", linestyles='dashed')\n",
    "plt.savefig('Data/ping_response_result.png')\n",
    "plt.show()"
   ]
  },
  {
   "cell_type": "markdown",
   "metadata": {},
   "source": [
    "### 4.3. Time series pre-analysis\n",
    "- We run a preliminary analysis of the obtained time series data.\n",
    "- We can observe that our traffic speed data is auto-correlated: **ACF decays exponentially and PACF exhibits a cut-off at $h=3$**."
   ]
  },
  {
   "cell_type": "code",
   "execution_count": 84,
   "metadata": {},
   "outputs": [
    {
     "data": {
      "image/png": "[encoded data removed]",
      "text/plain": [
       "<Figure size 1224x288 with 3 Axes>"
      ]
     },
     "metadata": {
      "needs_background": "light"
     },
     "output_type": "display_data"
    }
   ],
   "source": [
    "plt.rcParams[\"font.size\"] = 10\n",
    "fig, ax = plt.subplots(1, 3, figsize=(17, 4))\n",
    "axes = ax.flatten()\n",
    "diff_color = \"#800000\"\n",
    "\n",
    "axes[0].plot(data)\n",
    "axes[0].set_title(\"Ping Reponse Time (ms)\")\n",
    "fig = sm.graphics.tsa.plot_acf(data, lags=20, ax=axes[1])\n",
    "fig = sm.graphics.tsa.plot_pacf(data, lags=20, ax=axes[2])\n",
    "plt.savefig('Data/acf_pacf.png')"
   ]
  },
  {
   "cell_type": "markdown",
   "metadata": {},
   "source": [
    "### 4.4. Change Point Detection\n",
    "\n",
    "- Finally, we run the Change Point Detection method on the obtained data.\n",
    "- <span style=\"color:blue\">Blue</span> ping response time, <span style=\"color:red\">Red</span>: detected change point scores, <span style=\"color:lightgreen\">Green</span>: actual change points made by hand.\n",
    "- By fine tuning the set of hyperparameters manually, we have found that {r=0.02, order=3, smooth=8} gives the best result for our data."
   ]
  },
  {
   "cell_type": "code",
   "execution_count": 118,
   "metadata": {},
   "outputs": [
    {
     "data": {
      "image/png": "[encoded data removed]",
      "text/plain": [
       "<Figure size 1000x500 with 3 Axes>"
      ]
     },
     "metadata": {
      "needs_background": "light"
     },
     "output_type": "display_data"
    }
   ],
   "source": [
    "config = {'r': 0.03,\n",
    "          'order': 5,\n",
    "          'smooth': 30}\n",
    "\n",
    "cf = changefinder.ChangeFinder(r=config['r'], order=config['order'], smooth=config['smooth'])\n",
    " \n",
    "ret = []\n",
    "for i in data:\n",
    "    score = cf.update(i)\n",
    "    ret.append(score)\n",
    " \n",
    "fig = plt.figure(figsize=(10,5),dpi=100)\n",
    "ax = fig.add_subplot(111)\n",
    "ax.plot(ret, 'r')\n",
    "plt.xlabel('Sequential ID of the Ping packets')\n",
    "plt.ylabel('Ping response time (ms, blue)\\n & Change point score (red)')\n",
    "ax2 = ax.twinx()\n",
    "ax2.vlines([565, 1060, 1525, 2045, 2180], ymin=min(data), ymax=max(data), colors=\"lightgreen\", linestyles='dashed')\n",
    "ax3 = ax.twinx()\n",
    "ax3.plot(data)\n",
    "plt.savefig('Data/change_point_detection_%s_%s_%s.png' %(config['r'], config['order'], config['smooth']))\n",
    "plt.show()"
   ]
  },
  {
   "cell_type": "markdown",
   "metadata": {},
   "source": [
    "## 5. Conclusion"
   ]
  },
  {
   "cell_type": "markdown",
   "metadata": {},
   "source": [
    "- We have identified the change points correctly with a minor number of errors.\n",
    "- For further development, change point can be detected online then alert it via Kibana (and email). To do this, calculating the outlier score with regular interval (e.g. 10 seconds) could be an option.\n",
    "- It would also be interesting to change the traffic load in the network to make change points.\n",
    "- There is also a possibility to fine tune the hyperparameters of the model based on the user's environment. Further empirical research with different kinds of environment could be a help to challenge the problem."
   ]
  },
  {
   "cell_type": "markdown",
   "metadata": {},
   "source": [
    "## Reference\n",
    "1) Takeuchi, J., & Yamanishi, K. (2006). A unifying framework for detecting outliers and change points from time series. IEEE Transactions on Knowledge and Data Engineering, 18(4), 482-492. https://doi.org/10.1109/TKDE.2006.1599387.\n",
    "\n",
    "2) https://speakerdeck.com/matsumoto_r/sdararugorizumutotong-ji-de-shou-fa-niyorushi-xi-lie-karafalsewai-rezhi-tobian-hua-dian-falsejian-chu?slide=37"
   ]
  }
 ],
 "metadata": {
  "kernelspec": {
   "display_name": "Python 3",
   "language": "python",
   "name": "python3"
  },
  "language_info": {
   "codemirror_mode": {
    "name": "ipython",
    "version": 3
   },
   "file_extension": ".py",
   "mimetype": "text/x-python",
   "name": "python",
   "nbconvert_exporter": "python",
   "pygments_lexer": "ipython3",
   "version": "3.6.6"
  }
 },
 "nbformat": 4,
 "nbformat_minor": 2
}
