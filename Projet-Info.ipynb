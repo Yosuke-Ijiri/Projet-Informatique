{
 "cells": [
  {
   "cell_type": "markdown",
   "metadata": {},
   "source": [
    "Test"
   ]
  },
  {
   "cell_type": "code",
   "execution_count": 12,
   "metadata": {},
   "outputs": [],
   "source": [
    "import spotipy\n",
    "import json\n",
    "import pandas as pd\n",
    "import matplotlib.pyplot as plt\n",
    "from spotipy.oauth2 import SpotifyClientCredentials"
   ]
  },
  {
   "cell_type": "code",
   "execution_count": 13,
   "metadata": {},
   "outputs": [],
   "source": [
    "# Spotify API Preparation\n",
    "client_id = 'client id'  # Replace this with your client id\n",
    "client_secret = 'client secret'  # Replace this with your client secret\n",
    "client_credentials_manager = spotipy.oauth2.SpotifyClientCredentials(client_id, client_secret)\n",
    "spotify = spotipy.Spotify(client_credentials_manager=client_credentials_manager)"
   ]
  },
  {
   "cell_type": "code",
   "execution_count": 5,
   "metadata": {},
   "outputs": [],
   "source": [
    "# define a dataFrame to store artist info\n",
    "artist_df = pd.DataFrame(columns=['artist_name','artist_ID','genre','popularity','related_artist_names'])"
   ]
  },
  {
   "cell_type": "code",
   "execution_count": 6,
   "metadata": {},
   "outputs": [],
   "source": [
    "# Retrieve info of an artist\n",
    "name = 'ONE OK ROCK'\n",
    "spotapi_out = spotify.search(q='artist:' + name, type='artist')\n",
    "artist_items = spotapi_out['artists']['items'][0]\n",
    "artist_id = artist_items['id']\n",
    "artid_list = [artist_id]\n",
    "artname_related_list = []\n",
    "spotapi_out_related = spotify.artist_related_artists(artist_id)\n",
    "for artname_related in spotapi_out_related['artists']:\n",
    "    artname_related_list.append(artname_related['name'])\n",
    "s = pd.Series([artist_items['name'], artist_items['id'], artist_items['genres'],artist_items['popularity'],artname_related_list],index=artist_df.columns)\n",
    "artist_df = artist_df.append(s,ignore_index=True)"
   ]
  },
  {
   "cell_type": "code",
   "execution_count": 11,
   "metadata": {},
   "outputs": [
    {
     "data": {
      "text/plain": [
       "{'artists': {'href': 'https://api.spotify.com/v1/search?query=artist%3AONE+OK+ROCK&type=artist&offset=0&limit=10',\n",
       "  'items': [{'external_urls': {'spotify': 'https://open.spotify.com/artist/7k73EtZwoPs516ZxE72KsO'},\n",
       "    'followers': {'href': None, 'total': 1628944},\n",
       "    'genres': ['j-pop', 'j-rock', 'visual kei'],\n",
       "    'href': 'https://api.spotify.com/v1/artists/7k73EtZwoPs516ZxE72KsO',\n",
       "    'id': '7k73EtZwoPs516ZxE72KsO',\n",
       "    'images': [{'height': 640,\n",
       "      'url': 'https://i.scdn.co/image/e7adafc800f54e5b500c4fcbea9953cb14e646a6',\n",
       "      'width': 640},\n",
       "     {'height': 320,\n",
       "      'url': 'https://i.scdn.co/image/0f9fca7e9d00ee9b64a324efa0d460575cb98b45',\n",
       "      'width': 320},\n",
       "     {'height': 160,\n",
       "      'url': 'https://i.scdn.co/image/a4f361a55bc6c6ae7e9c36be7a8e3ae9e4c41b59',\n",
       "      'width': 160}],\n",
       "    'name': 'ONE OK ROCK',\n",
       "    'popularity': 72,\n",
       "    'type': 'artist',\n",
       "    'uri': 'spotify:artist:7k73EtZwoPs516ZxE72KsO'}],\n",
       "  'limit': 10,\n",
       "  'next': None,\n",
       "  'offset': 0,\n",
       "  'previous': None,\n",
       "  'total': 1}}"
      ]
     },
     "execution_count": 11,
     "metadata": {},
     "output_type": "execute_result"
    }
   ],
   "source": [
    "spotapi_out"
   ]
  }
 ],
 "metadata": {
  "kernelspec": {
   "display_name": "Python 3",
   "language": "python",
   "name": "python3"
  },
  "language_info": {
   "codemirror_mode": {
    "name": "ipython",
    "version": 3
   },
   "file_extension": ".py",
   "mimetype": "text/x-python",
   "name": "python",
   "nbconvert_exporter": "python",
   "pygments_lexer": "ipython3",
   "version": "3.6.6"
  }
 },
 "nbformat": 4,
 "nbformat_minor": 2
}
